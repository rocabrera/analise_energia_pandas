{
 "cells": [
  {
   "cell_type": "markdown",
   "id": "c0df2881",
   "metadata": {},
   "source": [
    "# **Agenda**\n",
    "\n",
    "- **Apresentação & Introdução**\n",
    "- **Porque Python? Vantagens e Desvantagens**\n",
    "- **Uma jornada recorrente em projetos baseados em dados**\n",
    "- **Exemplo de aplicação prática**\n",
    "    - Explicação breve da biblioteca Pandas\n",
    "    - Manipulação de dados\n",
    "    - Exploração de dados"
   ]
  },
  {
   "cell_type": "markdown",
   "id": "d35f636e",
   "metadata": {},
   "source": [
    "---"
   ]
  },
  {
   "cell_type": "markdown",
   "id": "3294574b",
   "metadata": {},
   "source": [
    "# **Introdução**"
   ]
  },
  {
   "cell_type": "markdown",
   "id": "e57877e1-b579-4ab3-93dd-a247af2fe7e0",
   "metadata": {},
   "source": [
    "\n",
    "Contato:\n",
    "\n",
    "- <font color=\"orange\">Email</font> - castaldoniro@gmail.com\n",
    "- <font color=\"orange\">LinkedIn</font> - [linkedin.com/in/rodrigo-cabrera-castaldoni-575630181](linkedin.com/in/rodrigo-cabrera-castaldoni-575630181)\n",
    "\n"
   ]
  },
  {
   "cell_type": "markdown",
   "id": "354d4a1c",
   "metadata": {},
   "source": [
    "### O que é python? \n",
    "\n",
    "É uma linguagem de programação:\n",
    "\n",
    "- Alto nível.\n",
    "- Interpretada.\n",
    "- Multi paradigma.\n",
    "- Tipada dinâmicamente."
   ]
  },
  {
   "cell_type": "code",
   "execution_count": null,
   "id": "78ef3895",
   "metadata": {
    "tags": []
   },
   "outputs": [],
   "source": []
  },
  {
   "cell_type": "markdown",
   "id": "aa3330a6",
   "metadata": {},
   "source": [
    "**PYPL: Popularity of Programming Language**: Quão frequentemente tutoriais sobre uma linguagem são buscados?\n",
    "Ref: https://pypl.github.io/PYPL.html\n",
    "<center><img src=\"figures/python2021_index.png\"/></center>\n",
    "\n"
   ]
  },
  {
   "cell_type": "markdown",
   "id": "4b73606f",
   "metadata": {},
   "source": [
    "- **Pypi**\n",
    "  - 8.1 TB de código escrito.\n",
    "  - 312,781 projetos.\n",
    "  - <font color=\"orange\">**518,479 usuários.**</font> "
   ]
  },
  {
   "cell_type": "markdown",
   "id": "856ce4ab",
   "metadata": {},
   "source": [
    "---"
   ]
  },
  {
   "cell_type": "markdown",
   "id": "eaa12c0b",
   "metadata": {},
   "source": [
    "# **Algumas diferenças entre python e outras linguagens**\n",
    "\n",
    "Ref: https://www.python.org/doc/essays/comparisons/"
   ]
  },
  {
   "cell_type": "markdown",
   "id": "a913ec53",
   "metadata": {},
   "source": [
    "Vamos printar na tela de 0 a 5?\n",
    "\n",
    "**Java:**\n",
    "```java\n",
    "for (int i = 0; i < 5; i++) {\n",
    "    System.out.println(i);\n",
    "}\n",
    "```\n",
    "\n",
    "**Python:**\n",
    "\n",
    "```python\n",
    "for i in range(0,6):\n",
    "    print(i)\n",
    "```"
   ]
  },
  {
   "cell_type": "code",
   "execution_count": null,
   "id": "63867184",
   "metadata": {
    "tags": []
   },
   "outputs": [],
   "source": [
    "# Qual posição dos números pares na lista? \n",
    "lista = [4, 5, 1, 2, 10, 7]\n",
    "# R -> 0, 3, 4"
   ]
  },
  {
   "cell_type": "code",
   "execution_count": null,
   "id": "b3b8f1df",
   "metadata": {},
   "outputs": [],
   "source": [
    "# Qual posição dos números pares na lista? \n"
   ]
  },
  {
   "cell_type": "code",
   "execution_count": null,
   "id": "24ddeaec",
   "metadata": {},
   "outputs": [],
   "source": [
    "# Precisamos mesmo de um contador?\n"
   ]
  },
  {
   "cell_type": "code",
   "execution_count": null,
   "id": "ec620f4f",
   "metadata": {},
   "outputs": [],
   "source": [
    "# Precisamos inicializar a lista de pares?\n"
   ]
  },
  {
   "cell_type": "markdown",
   "id": "b84433f1",
   "metadata": {},
   "source": [
    "---"
   ]
  },
  {
   "cell_type": "markdown",
   "id": "2b7576cf",
   "metadata": {},
   "source": [
    "# **Uma jornada recorrente em projetos baseados em dados**\n",
    "\n",
    "Cada projeto de ciência de dados é <font color = \"orange\">único</font>, contendo suas <font color = \"orange\">particularidades e especificidades</font>.\n",
    "\n",
    "Mas, de maneira genérica, um projeto de ciência de dados costuma ser dividido nas seguintes etapas:\n",
    "\n",
    "- 0) Formulação do problema;\n",
    "- 1) Ingestão dos dados;\n",
    "- 2) <font color = \"orange\"> **Preparação dos dados;** </font>\n",
    "- 3) <font color = \"orange\"> **Exploração dos dados;** </font>\n",
    "- 4) Modelagem;\n",
    "- 5) Apresentação ou deploy;\n",
    "\n",
    "Depois da etapa 0, as mais <font color=\"orange\">trabalhosas</font> (e que comumente mais tomam tempo) são as etapas <font color=\"orange\">2 e 3</font>.\n",
    "\n",
    "E há quem diga que estas são as etapas mais importantes! <font color =\"red\"> **(Garbage in, garabage out!)** </font> "
   ]
  },
  {
   "cell_type": "markdown",
   "id": "fe05ba39",
   "metadata": {},
   "source": [
    "<center><img src=\"https://www.xtivia.com/media/Data_Science_Pipeline.png\" width=700></center>"
   ]
  },
  {
   "cell_type": "markdown",
   "id": "9d953708",
   "metadata": {
    "tags": []
   },
   "source": [
    "# **Exemplo de aplicação prática**"
   ]
  },
  {
   "cell_type": "markdown",
   "id": "d0973e6c",
   "metadata": {},
   "source": [
    "Vamos explorar a relação entre consumo de energia e custo por submercado.\n",
    "\n",
    "**Datasets** - https://www.ccee.org.br/portal/:\n",
    " - consumo.xlsx\n",
    " - infopld.xlsx (3 sheets)\n",
    " \n",
    "**Informação auxiliar**:\n",
    " - estado2submercado.json (Mapeia estado - submercado)"
   ]
  },
  {
   "cell_type": "markdown",
   "id": "517dca31",
   "metadata": {},
   "source": [
    "DESENVOLVER INTELIGENCIA DE MERCADO E FERRAMENTAS COMPUTACIONAIS PARA SE DESCOBRI O VALOR DO PLD, POIS A PLD AJUDA A DEFINIR QUAL VAI SER A VERIAÇÃO NO BOLSA DE ENERGIA.\n"
   ]
  },
  {
   "cell_type": "code",
   "execution_count": null,
   "id": "730a6542",
   "metadata": {},
   "outputs": [],
   "source": [
    "import numpy as np\n",
    "import pandas as pd\n",
    "\n",
    "path = \"data/consumo/consumo.xlsx\"\n",
    "\n",
    "# Vamos dar uma olhada em uma tabela\n"
   ]
  },
  {
   "cell_type": "code",
   "execution_count": null,
   "id": "3160f622",
   "metadata": {},
   "outputs": [],
   "source": [
    "# Vamos resolver o problema das datas?\n"
   ]
  },
  {
   "cell_type": "code",
   "execution_count": null,
   "id": "c1f64d20",
   "metadata": {},
   "outputs": [],
   "source": [
    "# O que vemos nem sempre é a verdade\n"
   ]
  },
  {
   "cell_type": "code",
   "execution_count": null,
   "id": "537a4278",
   "metadata": {},
   "outputs": [],
   "source": [
    "# Sera que a variável consumo está correta? \n",
    "\n",
    "# Vamos visualizar esse consumo?\n"
   ]
  },
  {
   "cell_type": "code",
   "execution_count": 3,
   "id": "6514fa96",
   "metadata": {},
   "outputs": [],
   "source": [
    "# Para ganhar tempo eu ja limpei uma tabela\n",
    "clean_path = \"data/consumo/consumo_clean.csv\"\n",
    "consumo_df = pd.read_csv(clean_path)\n",
    "consumo_df[\"Data\"] = pd.to_datetime(consumo_df[\"Data\"],dayfirst=True)"
   ]
  },
  {
   "cell_type": "markdown",
   "id": "17c9c896",
   "metadata": {
    "jp-MarkdownHeadingCollapsed": true,
    "tags": []
   },
   "source": [
    "## **Vamos fazer um mini processamento?** "
   ]
  },
  {
   "cell_type": "code",
   "execution_count": null,
   "id": "a7d9ad50",
   "metadata": {},
   "outputs": [],
   "source": [
    "# Como podemos ler um arquivo excel com várias sheets?\n",
    "infopld = pd.ExcelFile(\"data/infopld/infopld_pre_clean.xlsx\")\n",
    "infopld_2018_df = infopld.parse(\"sheet0\")\n",
    "infopld_2019_df = infopld.parse(\"sheet1\")\n",
    "infopld_2020_df = infopld.parse(\"sheet2\")"
   ]
  },
  {
   "cell_type": "code",
   "execution_count": null,
   "id": "044d5079",
   "metadata": {
    "tags": []
   },
   "outputs": [],
   "source": [
    "# Eu gostaria de ter média do pld por submercado em um certo mês, essa é uma visão semanal ...\n"
   ]
  },
  {
   "cell_type": "code",
   "execution_count": null,
   "id": "988b8b66",
   "metadata": {},
   "outputs": [],
   "source": [
    "# https://pandas.pydata.org/pandas-docs/stable/reference/api/pandas.pivot_table.html\n"
   ]
  },
  {
   "cell_type": "code",
   "execution_count": null,
   "id": "d5ac1105",
   "metadata": {},
   "outputs": [],
   "source": [
    "# Vamos fazer uma função?\n"
   ]
  },
  {
   "cell_type": "code",
   "execution_count": null,
   "id": "a037f55b",
   "metadata": {},
   "outputs": [],
   "source": [
    "# Como podemos juntar esses dataframes?\n",
    "# https://pandas.pydata.org/pandas-docs/stable/reference/api/pandas.concat.html\n",
    "\n",
    "# Algumas manipulações\n"
   ]
  },
  {
   "cell_type": "code",
   "execution_count": null,
   "id": "b70abde3",
   "metadata": {
    "tags": []
   },
   "outputs": [],
   "source": [
    "# Como criar uma coluna submercado sem perder informação\n",
    "# https://pandas.pydata.org/docs/reference/api/pandas.melt.html\n"
   ]
  },
  {
   "cell_type": "code",
   "execution_count": null,
   "id": "aa50308b",
   "metadata": {
    "tags": []
   },
   "outputs": [],
   "source": [
    "# Essa tabela tem datas tbm\n"
   ]
  },
  {
   "cell_type": "markdown",
   "id": "1453b868",
   "metadata": {},
   "source": [
    "**Como podemos juntar essas tabelas?**\n",
    "\n",
    "<center><img src=\"figures/inner_join.png\" width=200px/></center>"
   ]
  },
  {
   "cell_type": "code",
   "execution_count": null,
   "id": "963b6d74",
   "metadata": {},
   "outputs": [],
   "source": [
    "# https://pandas.pydata.org/docs/reference/api/pandas.DataFrame.merge.html\n"
   ]
  },
  {
   "cell_type": "code",
   "execution_count": null,
   "id": "a81dea41",
   "metadata": {},
   "outputs": [],
   "source": []
  },
  {
   "cell_type": "markdown",
   "id": "a786b7fe",
   "metadata": {
    "tags": []
   },
   "source": [
    "## **Análise Qualitativa**"
   ]
  },
  {
   "cell_type": "code",
   "execution_count": null,
   "id": "90c5ebad",
   "metadata": {},
   "outputs": [],
   "source": [
    "import seaborn as sns\n",
    "import matplotlib.pyplot as plt\n",
    "\n",
    "sns.set_theme(style=\"darkgrid\")\n",
    "color1 = \"ch:rot=-.25,hue=1,light=.75\"\n",
    "color2 = \"colorblind\"\n",
    "\n",
    "fig, axs = plt.subplots(2,1,figsize=(15,10))\n",
    "\n",
    "sns.lineplot(\n",
    "    x=\"Data\", y=\"Consumo (MWm)\",hue=\"submercado\",\n",
    "    data=analysis_merge_df, ax = axs[0],\n",
    "    palette=color2, marker='o', markersize=3, mec='k', lw=1.5)\n",
    "\n",
    "axs[0].axvline(x=pd.to_datetime(\"2018-12-1\"), lw=2, ls='--', c='black')\n",
    "axs[0].axvline(x=pd.to_datetime(\"2019-04-1\"), lw=2, ls='--', c='black')\n",
    "\n",
    "axs[0].axvline(x=pd.to_datetime(\"2020-02-1\"), lw=2, ls='--', c='black')\n",
    "axs[0].axvline(x=pd.to_datetime(\"2020-05-1\"), lw=2, ls='--', c='black')\n",
    "\n",
    "\n",
    "sns.lineplot(\n",
    "    x=\"Data\", y=\"pld\", hue =\"submercado\", \n",
    "    data=analysis_merge_df, ax = axs[1],\n",
    "    palette=color2, marker='o', markersize=3, mec='k', lw=1.5)\n",
    "\n",
    "axs[1].axvline(x=pd.to_datetime(\"2018-12-1\"), lw=2, ls='--', c='black')\n",
    "axs[1].axvline(x=pd.to_datetime(\"2019-04-1\"), lw=2, ls='--', c='black')\n",
    "\n",
    "axs[1].axvline(x=pd.to_datetime(\"2020-02-1\"), lw=2, ls='--', c='black')\n",
    "axs[1].axvline(x=pd.to_datetime(\"2020-05-1\"), lw=2, ls='--', c='black')\n",
    "\n",
    "plt.show()"
   ]
  },
  {
   "cell_type": "markdown",
   "id": "7b29f1cf-377a-4bf1-968d-2453f855c78c",
   "metadata": {
    "tags": []
   },
   "source": [
    "---\n",
    "\n",
    "## **Análise Quantitativa**"
   ]
  },
  {
   "cell_type": "code",
   "execution_count": null,
   "id": "d2be1aaf-523a-4e9f-a0cf-39ac746927bf",
   "metadata": {
    "tags": []
   },
   "outputs": [],
   "source": [
    "cm = sns.light_palette(\"orange\", as_cmap=True)"
   ]
  }
 ],
 "metadata": {
  "kernelspec": {
   "display_name": "venv_playground",
   "language": "python",
   "name": "venv_playground"
  },
  "language_info": {
   "codemirror_mode": {
    "name": "ipython",
    "version": 3
   },
   "file_extension": ".py",
   "mimetype": "text/x-python",
   "name": "python",
   "nbconvert_exporter": "python",
   "pygments_lexer": "ipython3",
   "version": "3.9.4"
  }
 },
 "nbformat": 4,
 "nbformat_minor": 5
}
