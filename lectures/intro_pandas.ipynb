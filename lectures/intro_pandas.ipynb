{
 "cells": [
  {
   "cell_type": "markdown",
   "id": "5e02bd85-1f17-4275-80b5-def104d325a4",
   "metadata": {},
   "source": [
    "## **Introdução a Pandas**"
   ]
  },
  {
   "cell_type": "markdown",
   "id": "cf8c9123-79d1-48d3-bb85-8a70d581475a",
   "metadata": {},
   "source": [
    "- [Pandas](https://pandas.pydata.org/) é uma ferramenta *open source* contruída em cima do python, para manipular com dados de forma rápida, poderosa, flexível e fácil.\n",
    "\n",
    "- Seu nome vem de uma brincadeira com a frase *Python data analysis*.\n",
    "\n",
    "- Esse projeto foi criado por um pesquisador (Wes McKinney) enquanto ele trabalhava na [AQR Capital](https://www.aqr.com/) (Uma empresa de investimentos).\n",
    "\n",
    "\n",
    "- [Pandas vs Outras ferramentas](https://pandas.pydata.org/docs/getting_started/comparison/index.html).\n",
    "\n",
    "- [Documentação - versão - 1.3.4 em PDF](https://pandas.pydata.org/pandas-docs/version/1.3.4/pandas.pdf).\n",
    "\n",
    "Exemplo por Wes McKinney de como utilizar a ferramenta/biblioteca/projeto/API: [Vídeo](https://www.youtube.com/watch?v=_T8LGqJtuGc) "
   ]
  },
  {
   "cell_type": "code",
   "execution_count": 1,
   "id": "3b272a74-0830-41b4-b575-6aca9b0b32c4",
   "metadata": {},
   "outputs": [],
   "source": [
    "import pandas as pd\n",
    "from IPython.display import display"
   ]
  },
  {
   "cell_type": "markdown",
   "id": "026fa990-459f-4014-b0fe-1715783b703d",
   "metadata": {},
   "source": [
    "# **Objeto DataFrame**"
   ]
  },
  {
   "cell_type": "markdown",
   "id": "6df22369-6e28-4b2e-b12e-a401b2721999",
   "metadata": {},
   "source": [
    "<center><img src=\"figures/dataframe.png\" align=\"center\" width=220/></center>\n"
   ]
  },
  {
   "cell_type": "code",
   "execution_count": 5,
   "id": "3e9f5b39-dbf1-4f1b-ae37-e9a883d52471",
   "metadata": {},
   "outputs": [
    {
     "data": {
      "text/html": [
       "<div>\n",
       "<style scoped>\n",
       "    .dataframe tbody tr th:only-of-type {\n",
       "        vertical-align: middle;\n",
       "    }\n",
       "\n",
       "    .dataframe tbody tr th {\n",
       "        vertical-align: top;\n",
       "    }\n",
       "\n",
       "    .dataframe thead th {\n",
       "        text-align: right;\n",
       "    }\n",
       "</style>\n",
       "<table border=\"1\" class=\"dataframe\">\n",
       "  <thead>\n",
       "    <tr style=\"text-align: right;\">\n",
       "      <th></th>\n",
       "      <th>0</th>\n",
       "      <th>1</th>\n",
       "      <th>2</th>\n",
       "    </tr>\n",
       "  </thead>\n",
       "  <tbody>\n",
       "    <tr>\n",
       "      <th>0</th>\n",
       "      <td>2</td>\n",
       "      <td>2</td>\n",
       "      <td>3</td>\n",
       "    </tr>\n",
       "    <tr>\n",
       "      <th>1</th>\n",
       "      <td>7</td>\n",
       "      <td>5</td>\n",
       "      <td>1</td>\n",
       "    </tr>\n",
       "    <tr>\n",
       "      <th>2</th>\n",
       "      <td>9</td>\n",
       "      <td>3</td>\n",
       "      <td>4</td>\n",
       "    </tr>\n",
       "  </tbody>\n",
       "</table>\n",
       "</div>"
      ],
      "text/plain": [
       "   0  1  2\n",
       "0  2  2  3\n",
       "1  7  5  1\n",
       "2  9  3  4"
      ]
     },
     "metadata": {},
     "output_type": "display_data"
    }
   ],
   "source": [
    "tabela = [[2,2,3],\n",
    "           [7,5,1],\n",
    "           [9,3,4]]\n",
    "\n",
    "df = pd.DataFrame(tabela)\n",
    "display(df)"
   ]
  },
  {
   "cell_type": "code",
   "execution_count": 8,
   "id": "2d10cb91-ccc2-44e7-8baa-b24a46719ee7",
   "metadata": {},
   "outputs": [
    {
     "data": {
      "text/html": [
       "<div>\n",
       "<style scoped>\n",
       "    .dataframe tbody tr th:only-of-type {\n",
       "        vertical-align: middle;\n",
       "    }\n",
       "\n",
       "    .dataframe tbody tr th {\n",
       "        vertical-align: top;\n",
       "    }\n",
       "\n",
       "    .dataframe thead th {\n",
       "        text-align: right;\n",
       "    }\n",
       "</style>\n",
       "<table border=\"1\" class=\"dataframe\">\n",
       "  <thead>\n",
       "    <tr style=\"text-align: right;\">\n",
       "      <th></th>\n",
       "      <th>limao</th>\n",
       "      <th>feijao</th>\n",
       "      <th>batata</th>\n",
       "    </tr>\n",
       "  </thead>\n",
       "  <tbody>\n",
       "    <tr>\n",
       "      <th>0</th>\n",
       "      <td>1</td>\n",
       "      <td>5</td>\n",
       "      <td>7</td>\n",
       "    </tr>\n",
       "    <tr>\n",
       "      <th>1</th>\n",
       "      <td>2</td>\n",
       "      <td>8</td>\n",
       "      <td>6</td>\n",
       "    </tr>\n",
       "    <tr>\n",
       "      <th>2</th>\n",
       "      <td>3</td>\n",
       "      <td>0</td>\n",
       "      <td>9</td>\n",
       "    </tr>\n",
       "  </tbody>\n",
       "</table>\n",
       "</div>"
      ],
      "text/plain": [
       "   limao  feijao  batata\n",
       "0      1       5       7\n",
       "1      2       8       6\n",
       "2      3       0       9"
      ]
     },
     "metadata": {},
     "output_type": "display_data"
    }
   ],
   "source": [
    "tabela = {\"limao\":[1,2,3], \n",
    "          \"feijao\":[5,8,0],\n",
    "          \"batata\":[7,6,9]}\n",
    "\n",
    "df = pd.DataFrame(tabela)\n",
    "display(df)"
   ]
  },
  {
   "cell_type": "code",
   "execution_count": 10,
   "id": "00b3a5d3-13d8-4f42-87b3-bddfb9c8c74b",
   "metadata": {},
   "outputs": [
    {
     "data": {
      "text/html": [
       "<div>\n",
       "<style scoped>\n",
       "    .dataframe tbody tr th:only-of-type {\n",
       "        vertical-align: middle;\n",
       "    }\n",
       "\n",
       "    .dataframe tbody tr th {\n",
       "        vertical-align: top;\n",
       "    }\n",
       "\n",
       "    .dataframe thead th {\n",
       "        text-align: right;\n",
       "    }\n",
       "</style>\n",
       "<table border=\"1\" class=\"dataframe\">\n",
       "  <thead>\n",
       "    <tr style=\"text-align: right;\">\n",
       "      <th></th>\n",
       "      <th>a</th>\n",
       "      <th>b</th>\n",
       "      <th>c</th>\n",
       "    </tr>\n",
       "  </thead>\n",
       "  <tbody>\n",
       "    <tr>\n",
       "      <th>00</th>\n",
       "      <td>2</td>\n",
       "      <td>2</td>\n",
       "      <td>3</td>\n",
       "    </tr>\n",
       "    <tr>\n",
       "      <th>01</th>\n",
       "      <td>7</td>\n",
       "      <td>5</td>\n",
       "      <td>1</td>\n",
       "    </tr>\n",
       "    <tr>\n",
       "      <th>10</th>\n",
       "      <td>9</td>\n",
       "      <td>3</td>\n",
       "      <td>4</td>\n",
       "    </tr>\n",
       "  </tbody>\n",
       "</table>\n",
       "</div>"
      ],
      "text/plain": [
       "    a  b  c\n",
       "00  2  2  3\n",
       "01  7  5  1\n",
       "10  9  3  4"
      ]
     },
     "metadata": {},
     "output_type": "display_data"
    }
   ],
   "source": [
    "tabela = [[2,2,3],\n",
    "           [7,5,1],\n",
    "           [9,3,4]]\n",
    "\n",
    "df = pd.DataFrame(tabela, columns=[\"a\", \"b\", \"c\"], index=[\"00\", \"01\", \"10\"])\n",
    "display(df)"
   ]
  },
  {
   "cell_type": "markdown",
   "id": "a98b88e1-3211-409c-bbf9-c164be156a9c",
   "metadata": {},
   "source": [
    "# **Objeto Series**"
   ]
  },
  {
   "cell_type": "markdown",
   "id": "f60ee1fc-9191-4239-915b-cff6c923e1b6",
   "metadata": {},
   "source": [
    "<center><img src=\"figures/series.png\" align=\"center\" width=100/></center>"
   ]
  },
  {
   "cell_type": "code",
   "execution_count": null,
   "id": "dccd6698-7a74-4089-85ef-5466edcfff67",
   "metadata": {},
   "outputs": [],
   "source": []
  },
  {
   "cell_type": "markdown",
   "id": "c4c958e9-f507-42e6-9aae-3c7024fa13b7",
   "metadata": {},
   "source": [
    "<font color=\"orange\">**LEMBRAR!**</font>\n",
    "> - Para importar o pacote utilize - import pandas as pd\n",
    "> - Uma tabela de dados é denominada DataFrame\n",
    ">  - Cada coluna em um DataFrame é denominada Series\n",
    ">  - DataFrame e Series são os principais **OBJETOS** da biblioteca.\n",
    "  "
   ]
  },
  {
   "cell_type": "markdown",
   "id": "28e04531-6aec-4810-b5b0-be34a171f7b1",
   "metadata": {},
   "source": [
    "## **Read and write formats** "
   ]
  },
  {
   "cell_type": "markdown",
   "id": "f995c2a5-cce8-4179-8e0b-baffc83901d7",
   "metadata": {},
   "source": [
    "<center><img src=\"figures/read_dataframe_formats.png\" align=\"center\" width=550/></center>"
   ]
  },
  {
   "cell_type": "markdown",
   "id": "8c4ae6fc-7e56-4100-8ebf-c33d6c11571c",
   "metadata": {},
   "source": [
    "Kaggle dataset: [Open food Facts](https://www.kaggle.com/openfoodfacts/world-food-facts/data)"
   ]
  },
  {
   "cell_type": "code",
   "execution_count": null,
   "id": "7ceb5892-c708-446b-8e48-9740f6b98320",
   "metadata": {},
   "outputs": [],
   "source": []
  },
  {
   "cell_type": "markdown",
   "id": "c8b3c46f-b198-47b4-a70a-23a9f3582b5d",
   "metadata": {
    "tags": []
   },
   "source": [
    "## **Explicando os tipos de dados**"
   ]
  },
  {
   "cell_type": "markdown",
   "id": "b751c693-996a-4b6f-afef-7347aae8bed8",
   "metadata": {},
   "source": [
    "## **Descrevendo o DataFrame**\n",
    "\n",
    "- head\n",
    "- tail\n",
    "- info\n",
    "- astype\n",
    "- describe"
   ]
  },
  {
   "cell_type": "markdown",
   "id": "9457b70d-a2b7-4603-bfde-457db805be35",
   "metadata": {},
   "source": [
    "## **Estatisticas**\n",
    "\n",
    "- sum\n",
    "- mean\n",
    "- count\n",
    "- value_counts"
   ]
  },
  {
   "cell_type": "markdown",
   "id": "76460d00-91d5-4dec-9071-83a41aa76dd8",
   "metadata": {},
   "source": [
    "## **Selecionando e Filtrando**"
   ]
  },
  {
   "cell_type": "markdown",
   "id": "bde3d4ac-3c7d-44fa-b713-ab99bb306a85",
   "metadata": {},
   "source": [
    "## **Trabalhando com dados faltantes**\n",
    "\n",
    "- ffil\n",
    "- dropna\n",
    "- asfreq\n",
    "- map \n",
    "- replace"
   ]
  },
  {
   "cell_type": "markdown",
   "id": "764cb21f-a571-4dcd-bd94-2fb34c9e2d23",
   "metadata": {},
   "source": [
    "## **Groupby**\n",
    "\n",
    "- apply\n",
    "- agg\n",
    "- applymap"
   ]
  },
  {
   "cell_type": "markdown",
   "id": "a0558a19-9d86-4d4d-b129-7b5444476395",
   "metadata": {},
   "source": [
    "## **Merge** \n",
    "\n",
    "- merge\n",
    "- pivot\n",
    "- melt\n",
    "- stack\n",
    "- unstack"
   ]
  },
  {
   "cell_type": "markdown",
   "id": "4dea788e-d8f9-4060-91a6-f214ab99d203",
   "metadata": {},
   "source": [
    "## **Extra**\n",
    "\n",
    "- .str\n",
    "- .dt"
   ]
  },
  {
   "cell_type": "markdown",
   "id": "e94eb0c3-1971-4c79-abe2-3373dadc5072",
   "metadata": {
    "tags": []
   },
   "source": [
    "## **Onde posso aprender mais?** "
   ]
  },
  {
   "cell_type": "markdown",
   "id": "55a3bef8-9a8f-4cba-a73f-ed0961335658",
   "metadata": {},
   "source": [
    "\n",
    "\n",
    "[Comnuidade Pandas](https://pandas.pydata.org/docs/getting_started/tutorials.html). Aqui tem livros, palestras, tutoriais entre outros.\n",
    "\n",
    "Livro indicado pela própria biblioteca:\n",
    "<center><img src=\"figures/livro_pandas.png\" align=\"center\" width=100/></center>\n",
    "\n",
    "Youtube:\n",
    "\n",
    "- [Pandas by Matt Harrison](https://www.youtube.com/watch?v=UURvPeczxJI&t=3395s) - 19 de agosto de 2021\n"
   ]
  }
 ],
 "metadata": {
  "kernelspec": {
   "display_name": "venv_playground",
   "language": "python",
   "name": "venv_playground"
  },
  "language_info": {
   "codemirror_mode": {
    "name": "ipython",
    "version": 3
   },
   "file_extension": ".py",
   "mimetype": "text/x-python",
   "name": "python",
   "nbconvert_exporter": "python",
   "pygments_lexer": "ipython3",
   "version": "3.9.9"
  }
 },
 "nbformat": 4,
 "nbformat_minor": 5
}
